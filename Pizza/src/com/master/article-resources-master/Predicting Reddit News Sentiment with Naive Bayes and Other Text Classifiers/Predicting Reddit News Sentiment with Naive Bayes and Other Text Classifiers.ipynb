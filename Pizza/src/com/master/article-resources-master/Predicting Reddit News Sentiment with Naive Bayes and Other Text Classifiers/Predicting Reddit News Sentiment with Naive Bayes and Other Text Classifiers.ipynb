{
 "cells": [
  {
   "cell_type": "markdown",
   "metadata": {},
   "source": [
    "# Text Classification\n",
    "\n",
    "In my previous post, I covered some of the [basics of sentiment analysis](/sentiment-analysis-reddit-headlines-pythons-nltk/), where we gathered and categorize some data regarding Reddit’s political news headlines. Now, we can use that data to train our text classifier. \n",
    "\n",
    "So, in this article we will tackle some of the most common problems in machine learning while creating a text classifier in order to predict the sentiment of the headlines.\n",
    "\n",
    "## How We're Using Classification\n",
    "\n",
    "Classification is the problem of identifying the category of a new observation based of a training set of data containing observations whose category is known. In our case, our headlines are the observations and the categories are either positive or negative (based on the sentiment analysis on our previous article).\n",
    "\n",
    "## Problem 1: Imbalanced Dataset\n",
    "\n",
    "One of the most common problems, in machine learning, is working with an imbalanced dataset. Typically, an imbalanced dataset is a dataset where the classes are not represented equally. \n",
    "\n",
    "For example, you may have a binary classification problem with 100 examples. 90 of them belong to *Class 1* and 10 of them belong to *Class 2*.\n",
    "\n",
    "After you train your model with your dataset, you start the evaluation process. At that point, you may experience accuracy up to 90%, which is commonly known as the [Accuracy Paradox](https://en.wikipedia.org/wiki/Accuracy_paradox). \n",
    "\n",
    "The reason behind the 90% accuracy is due to our model examining the data and deciding to always predict *Class 1*, resulting in high accuracy. So, to countermeasure this problem you can use any of the following techniques:\n",
    "\n",
    "* **Collect more data:** If you can collect more data, then you should do it. This step might help balance the dataset and enhance the minor class examples.\n",
    "* **Change you metric:** You can use either the Confusion Matrix, Precision, Recall or F1 score.\n",
    "* **Synthetic data:** You can randomly sample the attributes from examples in the minority class to create more ‘fake’ data.\n",
    "* **Resample data:** Add copies of minor class examples or delete examples from major class.\n",
    "* **Penalized model:**  Implements an additional cost on the model for making classification mistakes on the minority class during training. These penalties bias the model towards the minority class.\n",
    "\n",
    "\n",
    "In our dataset, we have <u>227 positive</u> examples and <u>307 negative</u> examples. So I will **resample the data** by deleting some negative examples, but feel free to use any of the other techniques.\n",
    "\n",
    "Before getting to the good stuff, we just need to establish our imports:"
   ]
  },
  {
   "cell_type": "code",
   "execution_count": 16,
   "metadata": {
    "collapsed": true
   },
   "outputs": [],
   "source": [
    "import nltk\n",
    "from nltk.corpus import stopwords\n",
    "from nltk.tokenize import RegexpTokenizer\n",
    "from nltk.classify.scikitlearn import SklearnClassifier\n",
    "\n",
    "import math\n",
    "import random\n",
    "from collections import Counter\n",
    "\n",
    "import seaborn as sns\n",
    "import matplotlib.pyplot as plt\n",
    "import numpy as np\n",
    "import pandas as pd\n",
    "\n",
    "from sklearn.naive_bayes import MultinomialNB, BernoulliNB\n",
    "from sklearn.linear_model import LogisticRegression, SGDClassifier\n",
    "from sklearn.svm import LinearSVC\n",
    "from sklearn.ensemble import RandomForestClassifier\n",
    "\n",
    "sns.set_style(style='white')\n",
    "sns.set_context(context='notebook', font_scale=1.3, rc={'figure.figsize': (14,8)})"
   ]
  },
  {
   "cell_type": "markdown",
   "metadata": {},
   "source": [
    "## Loading the Dataset\n",
    "\n",
    "To load our dataset, we can do the following:"
   ]
  },
  {
   "cell_type": "code",
   "execution_count": 17,
   "metadata": {
    "collapsed": true,
    "scrolled": true
   },
   "outputs": [],
   "source": [
    "precision = 1\n",
    "\n",
    "tokenizer = RegexpTokenizer(r'\\w+')\n",
    "stop_words = set(stopwords.words('english'))\n",
    "\n",
    "all_words_pos = []\n",
    "line_counter = 0\n",
    "with open(\"pos_news_titles.txt\", \"r\", encoding='utf-8',\n",
    "          errors='ignore') as f_pos:\n",
    "    for line in f_pos.readlines():\n",
    "        line_counter += 1\n",
    "        words = tokenizer.tokenize(line)\n",
    "        for w in words:\n",
    "            if w.lower() not in stop_words:\n",
    "                all_words_pos.append(w.lower())\n",
    "\n",
    "all_words_neg = []\n",
    "with open(\"neg_news_titles.txt\", \"r\", encoding='utf-8',\n",
    "          errors='ignore') as f_neg:\n",
    "    for i, line in enumerate(f_neg):\n",
    "        if i == line_counter:\n",
    "            break\n",
    "        words = tokenizer.tokenize(line)\n",
    "        for w in words:\n",
    "            if w.lower() not in stop_words:\n",
    "                all_words_neg.append(w.lower())\n"
   ]
  },
  {
   "cell_type": "markdown",
   "metadata": {
    "collapsed": true
   },
   "source": [
    "The above code block is reading both the positive and negative files line by line, storing the words of each headline in a list, and using a counter to store the number of positive examples. The counter is to ensure we are only getting the same number of positive and negative examples.\n",
    "\n",
    "Here's an example of what's contained in `all_words_pos` and `all_words_neg`:"
   ]
  },
  {
   "cell_type": "code",
   "execution_count": 18,
   "metadata": {},
   "outputs": [
    {
     "name": "stdout",
     "output_type": "stream",
     "text": [
      "Negative words:\n",
      " ['trump', 'conservative', 'leaders', 'plan', 'fails', 'blame', 'democrats', 'china', 'oks', '38'] \n",
      "\n",
      "Positive words:\n",
      " ['spicer', 'aarp', 'concerns', 'trying', 'accommodate', 'special', 'interests', 'nearly', 'everyone', 'agrees']\n"
     ]
    }
   ],
   "source": [
    "print('Negative words:\\n', all_words_neg[:10], '\\n')\n",
    "print('Positive words:\\n', all_words_pos[:10])"
   ]
  },
  {
   "cell_type": "markdown",
   "metadata": {},
   "source": [
    "## Transform Words to Features\n",
    "\n",
    "In order to train our classifier, we need to transform our words into examples. \n",
    "\n",
    "First, we will gather the $k$-most frequent words (you can experiment with $k$). After that, we will create a function that will search for these $k$ words in every headline, and mark their presence as 1 (True) and their absence as 0 (False).\n"
   ]
  },
  {
   "cell_type": "code",
   "execution_count": 19,
   "metadata": {},
   "outputs": [
    {
     "name": "stdout",
     "output_type": "stream",
     "text": [
      "Most common words:\n",
      " [('trump', 209), ('health', 68), ('care', 57), ('gop', 48), ('bill', 42), ('plan', 39), ('house', 32), ('obamacare', 32), ('donald', 30), ('new', 27)] \n",
      "\n",
      "Word features:\n",
      " ['trump', 'health', 'care', 'gop', 'bill', 'plan', 'house', 'obamacare', 'donald', 'new']\n"
     ]
    }
   ],
   "source": [
    "all_words_total = nltk.FreqDist(all_words_pos + all_words_neg)\n",
    "word_features = [x[0] for x in all_words_total.most_common(1000)]\n",
    "\n",
    "print('Most common words:\\n', all_words_total.most_common(10), '\\n')\n",
    "print('Word features:\\n', word_features[:10])"
   ]
  },
  {
   "cell_type": "code",
   "execution_count": 20,
   "metadata": {
    "collapsed": true
   },
   "outputs": [],
   "source": [
    "def feature_creation(words_list):\n",
    "    features = {}\n",
    "    for word in word_features:\n",
    "        features[word] = word in words_list\n",
    "    return features"
   ]
  },
  {
   "cell_type": "markdown",
   "metadata": {},
   "source": [
    "## Begin Training"
   ]
  },
  {
   "cell_type": "markdown",
   "metadata": {},
   "source": [
    "Now that we have our features and class labels, we are ready to start our training. \n",
    "\n",
    "### Text Classification with Naïve Bayes\n",
    "\n",
    "For our first algorithm, we will choose the **Naïve Bayes Classifier**, which is one of the most common algorithms for text classification. We'll be using [NLTK's Naïve Bayes classifier](http://www.nltk.org/_modules/nltk/classify/naivebayes.html), but first we have to split our data into train and test sets (below).\n",
    "\n",
    "If you train your model right now, with the usual 80% of the data as training set and the remaining 20% as the test set, the accuracy that you will get will not be quite ‘real’.  To get a better insight on our classifier’s generalization ability, there's two different techniques we can use:\n",
    "\n",
    "1) **K-fold cross-validation**: The examples are randomly partitioned into $k$ equal sized subsets (usually 10). Out of the $k$ subsets, a single subsample is used for testing the model and the remaining $k-1$ subsets are used as training data. The cross-validation technique is then repeated $k$ times, resulting in process where each subset is used exactly once as part of the test set. Finally, the average of the $k$-runs is computed. The advantage of this method is that every example is used in both train and test set.\n",
    "\n",
    "2) **Monte Carlo cross-validation**: Randomly splits the dataset into train and test data. The results are then averaged. The advantage of this method is that the proportion of the train/test split is not depending on the number of iterations. On the other hand, the disadvantage of this method is that some examples may never be selected in the test subset, whereas others may be selected more than once.\n",
    "\n",
    "In our experiment, we will use a combination of both. We will randomly shuffle the examples beforehand and then we will implement the $k$-fold cross-validation.\n",
    "\n",
    "### Turning Our Files into Features"
   ]
  },
  {
   "cell_type": "markdown",
   "metadata": {},
   "source": [
    "First, we read the headlines one by one and create the features for each observation. For the feature creation, we are going to use our previously defined function `feature_creation()`, which is explained above. \n",
    "\n",
    "We could avoid reading the files twice, but doing it this way is better for simplicity and clarification:"
   ]
  },
  {
   "cell_type": "code",
   "execution_count": 21,
   "metadata": {
    "collapsed": true
   },
   "outputs": [],
   "source": [
    "feature_sets = []\n",
    "with open(\"pos_news_titles.txt\", \"r\", encoding='utf-8',\n",
    "          errors='ignore') as f_pos:\n",
    "    for headline in f_pos.readlines():\n",
    "        tmp_list = []\n",
    "        words = tokenizer.tokenize(headline)\n",
    "        for w in words:\n",
    "            if w.lower() not in stop_words:\n",
    "                tmp_list.append(w.lower())\n",
    "        feature_sets.append((feature_creation(tmp_list), 1))\n",
    "\n",
    "with open(\"neg_news_titles.txt\", \"r\", encoding='utf-8',\n",
    "          errors='ignore') as f_neg:\n",
    "    for i, headline in enumerate(f_neg):\n",
    "        tmp_list = []\n",
    "        if i == line_counter:\n",
    "            break\n",
    "        words = tokenizer.tokenize(headline)\n",
    "        for w in words:\n",
    "            if w.lower() not in stop_words:\n",
    "                tmp_list.append(w.lower())\n",
    "        feature_sets.append((feature_creation(tmp_list), -1))"
   ]
  },
  {
   "cell_type": "markdown",
   "metadata": {},
   "source": [
    "### Cross-Validation\n",
    "\n",
    "Now we will use the cross-validation technique. First, we separate the dataset into $10$ folds, then we use $9/10$ of these folds as a training sample and the remaining $1$ as a test sample. \n",
    "\n",
    "We'll repeat this process $10$ times in order to use every fold as test and as train. This technique allows us to have a better view on the generalization ability of our classifier."
   ]
  },
  {
   "cell_type": "code",
   "execution_count": 22,
   "metadata": {},
   "outputs": [
    {
     "name": "stdout",
     "output_type": "stream",
     "text": [
      "NaiveBayes Accuracy: 73.9\n",
      "NaiveBayes Accuracy: 67.4\n",
      "NaiveBayes Accuracy: 80.4\n",
      "NaiveBayes Accuracy: 89.1\n",
      "NaiveBayes Accuracy: 69.6\n",
      "NaiveBayes Accuracy: 76.1\n",
      "NaiveBayes Accuracy: 82.6\n",
      "NaiveBayes Accuracy: 80.4\n",
      "NaiveBayes Accuracy: 65.2\n",
      "NaiveBayes Accuracy: 82.5\n"
     ]
    }
   ],
   "source": [
    "random.shuffle(feature_sets)\n",
    "bayes_runs = []\n",
    "num_folds = 10\n",
    "subset_size = math.ceil(len(feature_sets) / num_folds)\n",
    "\n",
    "for i in range(num_folds):\n",
    "    classifier_list = []\n",
    "    training_set = (feature_sets[(i + 1) * subset_size:]\n",
    "                    + feature_sets[:i * subset_size])\n",
    "    testing_set = feature_sets[i * subset_size:(i + 1) * subset_size]\n",
    "\n",
    "    classifier = nltk.NaiveBayesClassifier.train(training_set)\n",
    "    classifier_list.append(classifier)\n",
    "    bayes_runs.append((nltk.classify.accuracy(classifier, testing_set)) * 100)\n",
    "    \n",
    "    print(\"NaiveBayes Accuracy:\", round(bayes_runs[-1], precision))"
   ]
  },
  {
   "cell_type": "markdown",
   "metadata": {},
   "source": [
    "### Let's Plot our Naïve Bayes Results\n",
    "\n",
    "To do the plotting in this article, we'll be using the [Seaborn](https://seaborn.pydata.org/) library. Sometimes I'll have some extra code just to make the plots look nicer, but they aren't necessary for initial data exploration. "
   ]
  },
  {
   "cell_type": "code",
   "execution_count": 23,
   "metadata": {},
   "outputs": [
    {
     "data": {
      "image/png": "[encoded data removed]",
      "text/plain": [
       "<matplotlib.figure.Figure at 0x1514075fcc0>"
      ]
     },
     "metadata": {},
     "output_type": "display_data"
    }
   ],
   "source": [
    "fig, ax = plt.subplots()\n",
    "\n",
    "ax = sns.barplot(x=[i for i in range(len(bayes_runs))], y=bayes_runs, ci=None, color='#6CA6CD', zorder=1)\n",
    "\n",
    "for p in ax.patches:\n",
    "    percentage = str(round(p.get_height(), precision)) + '%'\n",
    "    placement = (p.get_x() + 0.15, p.get_height() + 1)\n",
    "    ax.annotate(percentage, placement)\n",
    "\n",
    "ax.set(xlabel='Runs', ylabel='Percentage')\n",
    "ax.set_title('Naive Bayes Accuracy')\n",
    "\n",
    "sns.despine(bottom=True, left=True)  # Remove the ticks on axes for cleaner presentation\n",
    "plt.ylim([0, 100])\n",
    "plt.show()"
   ]
  },
  {
   "cell_type": "markdown",
   "metadata": {},
   "source": [
    "Now we have a much more realistic percentage approach. \n",
    "\n",
    "### Text Classification Algorithms with scikit-learn\n",
    "\n",
    "As you can see Naïve Bayes performed pretty well, so let’s experiment with other classifiers, shall we? The scikit-learn package is exactly what we need. Just import the classifiers you want and simply do the following procedure for every one:"
   ]
  },
  {
   "cell_type": "code",
   "execution_count": 24,
   "metadata": {
    "collapsed": true
   },
   "outputs": [],
   "source": [
    "runs = []\n",
    "num_folds = 10\n",
    "subset_size = math.ceil(len(feature_sets) / num_folds)\n",
    "for i in range(num_folds):\n",
    "    training_set = (feature_sets[(i + 1) * subset_size:] + feature_sets[:i * subset_size])\n",
    "    testing_set = feature_sets[i * subset_size:(i + 1) * subset_size]\n",
    "\n",
    "    classifier = nltk.NaiveBayesClassifier.train(training_set)\n",
    "    runs.append((nltk.classify.accuracy(classifier, testing_set)) * 100)\n",
    "    # print(\"NaiveBayes Accuracy:\", round(runs[-1],precision))\n",
    "\n",
    "    MNB_classifier = SklearnClassifier(MultinomialNB())\n",
    "    MNB_classifier.train(training_set)\n",
    "    runs.append((nltk.classify.accuracy(MNB_classifier, testing_set)) * 100)\n",
    "    # print(\"MNB Accuracy:\", round(runs[-1],precision))\n",
    "\n",
    "    BernoulliNB_Classifier = SklearnClassifier(BernoulliNB())\n",
    "    BernoulliNB_Classifier.train(training_set)\n",
    "    runs.append((nltk.classify.accuracy(BernoulliNB_Classifier,\n",
    "                 testing_set)) * 100)\n",
    "    # print(\"BernoulliNB Accuracy:\", round(runs[-1],precision))\n",
    "\n",
    "    LogisticRegression_Classifier = SklearnClassifier(LogisticRegression())\n",
    "    LogisticRegression_Classifier.train(training_set)\n",
    "    runs.append((nltk.classify.accuracy(LogisticRegression_Classifier,\n",
    "                 testing_set)) * 100)\n",
    "    # print(\"LogisticRegression Accuracy:\", round(runs[-1],precision))\n",
    "\n",
    "    SGD_Classifier = SklearnClassifier(SGDClassifier())\n",
    "    SGD_Classifier.train(training_set)\n",
    "    runs.append((nltk.classify.accuracy(SGD_Classifier, testing_set)) * 100)\n",
    "    # print(\"SGD Accuracy:\", round(runs[-1],precision))\n",
    "\n",
    "    LinearSVC_Classifier = SklearnClassifier(LinearSVC())\n",
    "    LinearSVC_Classifier.train(training_set)\n",
    "    runs.append((nltk.classify.accuracy(LinearSVC_Classifier,\n",
    "                 testing_set)) * 100)\n",
    "    # print(\"LinearSVC Accuracy:\", round(runs[-1],precision))\n",
    "\n",
    "    RFClassifier_Classifier = SklearnClassifier(RandomForestClassifier())\n",
    "    RFClassifier_Classifier.train(training_set)\n",
    "    runs.append(nltk.classify.accuracy(RFClassifier_Classifier,\n",
    "                                       testing_set)*100)\n",
    "    # print(\"RF Accuracy:\", round(runs[-1],precision))"
   ]
  },
  {
   "cell_type": "markdown",
   "metadata": {},
   "source": [
    "This huge block of code might seem confusing but bear with me. \n",
    "\n",
    "The above block simply executes the same process as previously shown with Naïve Bayes, only this time it uses 6 more classifying models. It also stores each run in a list, that we will use below to plot the average of each classifier. You can uncomment the print statements to see the individual percentage of each run.\n",
    "\n",
    "### Plotting Model Results\n",
    "\n",
    "The next code block first calculates the average for each of the seven classifiers, then using the seaborn library we produce a barchart (shown below). \n",
    "\n",
    "The plot shows the comparison between all seven classifier averages. The results are satisfying in general, with **accuracy over 70%**. The percentages between our classifiers don’t differ much and will vary from run to run. In our run.\n",
    "\n",
    "*Stochastic Gradient Descent (SGD)* performed the best with **76.5%** while *Random Forest (RF)* performed the worst with **70.8%**. This small variance in our results indicates that we can achieve a decent accuracy, regardless of the model. \n",
    "\n",
    "If you are not satisfied with this result, you can always test more models individually or as a combination, which is what we will do next."
   ]
  },
  {
   "cell_type": "code",
   "execution_count": 25,
   "metadata": {},
   "outputs": [
    {
     "data": {
      "image/png": "[encoded data removed]",
      "text/plain": [
       "<matplotlib.figure.Figure at 0x1513e5c0048>"
      ]
     },
     "metadata": {},
     "output_type": "display_data"
    }
   ],
   "source": [
    "final = []\n",
    "for e in range(7):\n",
    "    average = [runs[i] for i in range(len(runs)) if i % 7 == e]\n",
    "    final.append(round(sum(average) / len(average), precision))\n",
    "\n",
    "data = pd.DataFrame({'classifiers': [\"NaiveBayes\", \"MNB\", \"BernouliNB\", \"LogReg\",\n",
    "                    \"SGD\", \"LinearSVC\", \"RF\"], 'val': final })\n",
    "\n",
    "fig, ax = plt.subplots()\n",
    "ax = sns.barplot(x='classifiers', y='val', data=data, ci=None, color='#6bd6b4')\n",
    "\n",
    "for p in ax.patches:\n",
    "    percentage = str(round(p.get_height(), precision)) + '%'\n",
    "    placement = (p.get_x() + 0.15, p.get_height() + 1)\n",
    "    ax.annotate(percentage, placement)\n",
    "\n",
    "ax.set(xlabel='Classifiers', ylabel='Percentage')\n",
    "ax.set_title('Average Accuracy')\n",
    "\n",
    "sns.despine(bottom=True, left=True)\n",
    "plt.ylim([0, 100])\n",
    "plt.show()"
   ]
  },
  {
   "cell_type": "markdown",
   "metadata": {},
   "source": [
    "## Combining Classifiers\n",
    "\n",
    "After we evaluated each classifier individually, it’s time to create a combinatory solution. It's quite common in Machine Learning to combine algorithms in order to achieve higher accuracy, but it doesn't always work.\n",
    "\n",
    "In our case, we will use a simple majority rule where we will predict the headline’s category based on what the majority of classifiers predicts. \n",
    "\n",
    "For example, if 4 or more of our 7 classifiers predict negative, we will also predict negative.\n",
    "\n",
    "The following `majority_votes()` function simply iterates over the list of classifiers and stores the individual predictions in a list. Then, it checks if the majority of prediction agrees with the correct answer (from our dataset), and increments our counter. Finally, it returns the accuracy percentage."
   ]
  },
  {
   "cell_type": "code",
   "execution_count": 26,
   "metadata": {
    "collapsed": true
   },
   "outputs": [],
   "source": [
    "def majority_votes(classifiers, testing):\n",
    "    correct = 0\n",
    "    for example in testing:\n",
    "        votes = []\n",
    "        for c in classifiers:\n",
    "            votes.append(c.classify(example[0]))\n",
    "        if Counter(votes).most_common(1)[0][0] == example[1]:\n",
    "            correct += 1\n",
    "\n",
    "    return (correct / len(testing))*100"
   ]
  },
  {
   "cell_type": "markdown",
   "metadata": {},
   "source": [
    "Next, we are going to do the exact same thing as the previous huge classifier block of code, only this time it stores the classifiers trained at each fold in order to combine them into a majority classifier:"
   ]
  },
  {
   "cell_type": "code",
   "execution_count": 27,
   "metadata": {},
   "outputs": [
    {
     "name": "stdout",
     "output_type": "stream",
     "text": [
      "Majority Accuracy: 80.4\n",
      "Majority Accuracy: 71.7\n",
      "Majority Accuracy: 80.4\n",
      "Majority Accuracy: 84.8\n",
      "Majority Accuracy: 73.9\n",
      "Majority Accuracy: 69.6\n",
      "Majority Accuracy: 80.4\n",
      "Majority Accuracy: 80.4\n",
      "Majority Accuracy: 67.4\n",
      "Majority Accuracy: 80.0\n"
     ]
    }
   ],
   "source": [
    "combined_runs = []\n",
    "num_folds = 10\n",
    "subset_size = math.ceil(len(feature_sets) / num_folds)\n",
    "\n",
    "for i in range(num_folds):\n",
    "    classifier_list = []\n",
    "    training_set = (feature_sets[(i + 1) * subset_size:] + feature_sets[:i * subset_size])\n",
    "    testing_set = feature_sets[i * subset_size:(i + 1) * subset_size]\n",
    "\n",
    "    classifier = nltk.NaiveBayesClassifier.train(training_set)\n",
    "    classifier_list.append(classifier)\n",
    "\n",
    "    MNB_classifier = SklearnClassifier(MultinomialNB())\n",
    "    MNB_classifier.train(training_set)\n",
    "    classifier_list.append(MNB_classifier)\n",
    "\n",
    "    BernoulliNB_Classifier = SklearnClassifier(BernoulliNB())\n",
    "    BernoulliNB_Classifier.train(training_set)\n",
    "    classifier_list.append(BernoulliNB_Classifier)\n",
    "\n",
    "    LogisticRegression_Classifier = SklearnClassifier(LogisticRegression())\n",
    "    LogisticRegression_Classifier.train(training_set)\n",
    "    classifier_list.append(LogisticRegression_Classifier)\n",
    "\n",
    "    SGD_Classifier = SklearnClassifier(SGDClassifier())\n",
    "    SGD_Classifier.train(training_set)\n",
    "    classifier_list.append(SGD_Classifier)\n",
    "\n",
    "    LinearSVC_Classifier = SklearnClassifier(LinearSVC())\n",
    "    LinearSVC_Classifier.train(training_set)\n",
    "    classifier_list.append(LinearSVC_Classifier)\n",
    "\n",
    "    RFClassifier_Classifier = SklearnClassifier(RandomForestClassifier())\n",
    "    RFClassifier_Classifier.train(training_set)\n",
    "    classifier_list.append(RFClassifier_Classifier)\n",
    "    \n",
    "    combined_runs.append(majority_votes(classifier_list, testing_set))\n",
    "    print(\"Majority Accuracy:\", round(combined_runs[-1],1))"
   ]
  },
  {
   "cell_type": "code",
   "execution_count": 28,
   "metadata": {},
   "outputs": [
    {
     "data": {
      "image/png": "[encoded data removed]",
      "text/plain": [
       "<matplotlib.figure.Figure at 0x1513e5f12e8>"
      ]
     },
     "metadata": {},
     "output_type": "display_data"
    },
    {
     "name": "stdout",
     "output_type": "stream",
     "text": [
      "Average Majority Accuracy:  76.9\n"
     ]
    }
   ],
   "source": [
    "fig, ax = plt.subplots()\n",
    "ax = sns.barplot(x=[i for i in range(len(combined_runs))], y=combined_runs, ci=None, color='#786BB2')\n",
    "\n",
    "for p in ax.patches:\n",
    "    percentage = str(round(p.get_height(), precision)) + '%'\n",
    "    placement = (p.get_x() + 0.15, p.get_height() + 1)\n",
    "    ax.annotate(percentage, placement)\n",
    "    \n",
    "ax.set(xlabel='Runs', ylabel='Percentage')\n",
    "ax.set_title('Combined Classifier Accuracy')\n",
    "\n",
    "sns.despine(bottom=True, left=True)\n",
    "plt.ylim([0, 100])\n",
    "plt.show()\n",
    "print('Average Majority Accuracy: ', round(sum(combined_runs) / 10,precision))"
   ]
  },
  {
   "cell_type": "markdown",
   "metadata": {},
   "source": [
    "And just to compare it to the original Naïve Bayes runs, let's do a quick Seaborn grouped bar chart:"
   ]
  },
  {
   "cell_type": "code",
   "execution_count": 29,
   "metadata": {},
   "outputs": [
    {
     "data": {
      "text/html": [
       "<div>\n",
       "<table border=\"1\" class=\"dataframe\">\n",
       "  <thead>\n",
       "    <tr style=\"text-align: right;\">\n",
       "      <th></th>\n",
       "      <th>classifier</th>\n",
       "      <th>run</th>\n",
       "      <th>percentage</th>\n",
       "    </tr>\n",
       "  </thead>\n",
       "  <tbody>\n",
       "    <tr>\n",
       "      <th>0</th>\n",
       "      <td>Naive Bayes</td>\n",
       "      <td>0</td>\n",
       "      <td>73.913043</td>\n",
       "    </tr>\n",
       "    <tr>\n",
       "      <th>1</th>\n",
       "      <td>Naive Bayes</td>\n",
       "      <td>1</td>\n",
       "      <td>67.391304</td>\n",
       "    </tr>\n",
       "    <tr>\n",
       "      <th>2</th>\n",
       "      <td>Naive Bayes</td>\n",
       "      <td>2</td>\n",
       "      <td>80.434783</td>\n",
       "    </tr>\n",
       "    <tr>\n",
       "      <th>3</th>\n",
       "      <td>Naive Bayes</td>\n",
       "      <td>3</td>\n",
       "      <td>89.130435</td>\n",
       "    </tr>\n",
       "    <tr>\n",
       "      <th>4</th>\n",
       "      <td>Naive Bayes</td>\n",
       "      <td>4</td>\n",
       "      <td>69.565217</td>\n",
       "    </tr>\n",
       "    <tr>\n",
       "      <th>5</th>\n",
       "      <td>Naive Bayes</td>\n",
       "      <td>5</td>\n",
       "      <td>76.086957</td>\n",
       "    </tr>\n",
       "    <tr>\n",
       "      <th>6</th>\n",
       "      <td>Naive Bayes</td>\n",
       "      <td>6</td>\n",
       "      <td>82.608696</td>\n",
       "    </tr>\n",
       "    <tr>\n",
       "      <th>7</th>\n",
       "      <td>Naive Bayes</td>\n",
       "      <td>7</td>\n",
       "      <td>80.434783</td>\n",
       "    </tr>\n",
       "    <tr>\n",
       "      <th>8</th>\n",
       "      <td>Naive Bayes</td>\n",
       "      <td>8</td>\n",
       "      <td>65.217391</td>\n",
       "    </tr>\n",
       "    <tr>\n",
       "      <th>9</th>\n",
       "      <td>Naive Bayes</td>\n",
       "      <td>9</td>\n",
       "      <td>82.500000</td>\n",
       "    </tr>\n",
       "    <tr>\n",
       "      <th>10</th>\n",
       "      <td>Combined</td>\n",
       "      <td>0</td>\n",
       "      <td>80.434783</td>\n",
       "    </tr>\n",
       "    <tr>\n",
       "      <th>11</th>\n",
       "      <td>Combined</td>\n",
       "      <td>1</td>\n",
       "      <td>71.739130</td>\n",
       "    </tr>\n",
       "    <tr>\n",
       "      <th>12</th>\n",
       "      <td>Combined</td>\n",
       "      <td>2</td>\n",
       "      <td>80.434783</td>\n",
       "    </tr>\n",
       "    <tr>\n",
       "      <th>13</th>\n",
       "      <td>Combined</td>\n",
       "      <td>3</td>\n",
       "      <td>84.782609</td>\n",
       "    </tr>\n",
       "    <tr>\n",
       "      <th>14</th>\n",
       "      <td>Combined</td>\n",
       "      <td>4</td>\n",
       "      <td>73.913043</td>\n",
       "    </tr>\n",
       "    <tr>\n",
       "      <th>15</th>\n",
       "      <td>Combined</td>\n",
       "      <td>5</td>\n",
       "      <td>69.565217</td>\n",
       "    </tr>\n",
       "    <tr>\n",
       "      <th>16</th>\n",
       "      <td>Combined</td>\n",
       "      <td>6</td>\n",
       "      <td>80.434783</td>\n",
       "    </tr>\n",
       "    <tr>\n",
       "      <th>17</th>\n",
       "      <td>Combined</td>\n",
       "      <td>7</td>\n",
       "      <td>80.434783</td>\n",
       "    </tr>\n",
       "    <tr>\n",
       "      <th>18</th>\n",
       "      <td>Combined</td>\n",
       "      <td>8</td>\n",
       "      <td>67.391304</td>\n",
       "    </tr>\n",
       "    <tr>\n",
       "      <th>19</th>\n",
       "      <td>Combined</td>\n",
       "      <td>9</td>\n",
       "      <td>80.000000</td>\n",
       "    </tr>\n",
       "  </tbody>\n",
       "</table>\n",
       "</div>"
      ],
      "text/plain": [
       "     classifier  run  percentage\n",
       "0   Naive Bayes    0   73.913043\n",
       "1   Naive Bayes    1   67.391304\n",
       "2   Naive Bayes    2   80.434783\n",
       "3   Naive Bayes    3   89.130435\n",
       "4   Naive Bayes    4   69.565217\n",
       "5   Naive Bayes    5   76.086957\n",
       "6   Naive Bayes    6   82.608696\n",
       "7   Naive Bayes    7   80.434783\n",
       "8   Naive Bayes    8   65.217391\n",
       "9   Naive Bayes    9   82.500000\n",
       "10     Combined    0   80.434783\n",
       "11     Combined    1   71.739130\n",
       "12     Combined    2   80.434783\n",
       "13     Combined    3   84.782609\n",
       "14     Combined    4   73.913043\n",
       "15     Combined    5   69.565217\n",
       "16     Combined    6   80.434783\n",
       "17     Combined    7   80.434783\n",
       "18     Combined    8   67.391304\n",
       "19     Combined    9   80.000000"
      ]
     },
     "execution_count": 29,
     "metadata": {},
     "output_type": "execute_result"
    }
   ],
   "source": [
    "num_runs = np.arange(len(bayes_runs))\n",
    "col_names = ['classifier', 'run', 'percentage']\n",
    "\n",
    "bayes_df = pd.DataFrame([['Naive Bayes', x, y] for x, y in zip(num_runs, bayes_runs)], columns=col_names)\n",
    "combined_df = pd.DataFrame([['Combined', x, y] for x, y in zip(num_runs, combined_runs)], columns=col_names)\n",
    "\n",
    "df = bayes_df.append(combined_df, ignore_index=True)\n",
    "df"
   ]
  },
  {
   "cell_type": "code",
   "execution_count": 30,
   "metadata": {},
   "outputs": [
    {
     "data": {
      "image/png": "[encoded data removed]",
      "text/plain": [
       "<matplotlib.figure.Figure at 0x1513fa4be48>"
      ]
     },
     "metadata": {},
     "output_type": "display_data"
    }
   ],
   "source": [
    "fig, ax = plt.subplots(figsize=(14,9))\n",
    "\n",
    "ax = sns.barplot(x='run', y='percentage', hue='classifier', data=df, palette='Blues_d')\n",
    "ax.set(xlabel='Run', ylabel='Percentage')\n",
    "\n",
    "for p in ax.patches:\n",
    "    percentage = str(round(p.get_height(), precision))\n",
    "    placement = (p.get_x() + 0.02, p.get_height() + 1)\n",
    "    ax.annotate(percentage, placement, size=14)\n",
    "\n",
    "sns.despine(bottom=True, left=True)\n",
    "plt.ylim([0, 100])\n",
    "plt.title('Naive Bayes vs. Combined')\n",
    "plt.show()"
   ]
  },
  {
   "cell_type": "markdown",
   "metadata": {},
   "source": [
    "Although our majority classifier performed great, it didn't differ much from even the really straightforward Naïve Bayes aglorithm. Unfortunately, that's par for the course when exploring algorithms, and even though it might not have worked in our case, this strategy of combining algorithms will definitely come in handy for your future projects. \n",
    "\n",
    "To sum up what's been done up to this point: \n",
    "+ We've mined Reddit's political headlines via their API\n",
    "+ Discovered the sentiment of those headlines using NLTK and the words in each headline\n",
    "+ We split positive and negative headlines into two sets and used them as features for our classifiers\n",
    "+ And finally, we discovered that our combined classification model can yeild up to an 82.6%, or 74.9% on average, chance of correctly predicting the sentiment of a political headline on Reddit.\n",
    "\n",
    "If you have any questions or comments, please leave them below! Also, if you've done a similar project, or if these articles have helped you in your project, drop a link. I'd love to check it out.\n",
    "\n",
    "Thanks for reading!"
   ]
  },
  {
   "cell_type": "code",
   "execution_count": null,
   "metadata": {
    "collapsed": true
   },
   "outputs": [],
   "source": []
  }
 ],
 "metadata": {
  "kernelspec": {
   "display_name": "Python 3",
   "language": "python",
   "name": "python3"
  },
  "language_info": {
   "codemirror_mode": {
    "name": "ipython",
    "version": 3
   },
   "file_extension": ".py",
   "mimetype": "text/x-python",
   "name": "python",
   "nbconvert_exporter": "python",
   "pygments_lexer": "ipython3",
   "version": "3.6.0"
  }
 },
 "nbformat": 4,
 "nbformat_minor": 2
}
